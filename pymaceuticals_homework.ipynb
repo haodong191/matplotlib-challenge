{
 "cells": [
  {
   "cell_type": "markdown",
   "metadata": {},
   "source": [
    "## Observations and Insights "
   ]
  },
  {
   "cell_type": "code",
   "execution_count": 2,
   "metadata": {},
   "outputs": [],
   "source": [
    "# Dependencies and Setup\n",
    "%matplotlib inline\n",
    "import matplotlib.pyplot as plt\n",
    "import pandas as pd\n",
    "import numpy as np\n",
    "import scipy.stats as st\n",
    "from scipy.stats import linregress"
   ]
  },
  {
   "cell_type": "code",
   "execution_count": 2,
   "metadata": {},
   "outputs": [],
   "source": [
    "# Observations:\n",
    "# Observation #1 - Base on the box and whisker plot we can see that three of the four drug regimens have no outlier. This shows that the tumor volume data all fall within the 25th and 75th percentile. \n",
    "\n",
    "# Observation #2 - From the plot \"Capomulin Treatment of Mouse G316\", the plot shows a consistent reduction in tumor volume over time for mouse G316 when undergone the Capmulin treament. Near the nd of the treatment the tumor is below 25mm3.\n",
    "\n",
    "# Observation #3 - Base on the  \"Weight vs Tumor Volume for Capomulin\" linear regression model we can see that there is a high corralation between tumor volume and weight of the mice. The correlation is 0.84 and the line is near 45 degrees to and to the right. This tells us that reducing the weight of the test subject will direct reduce its' tumor volume."
   ]
  },
  {
   "cell_type": "code",
   "execution_count": 3,
   "metadata": {},
   "outputs": [
    {
     "data": {
      "text/plain": [
       "Mouse ID              1893\n",
       "Drug Regimen          1893\n",
       "Sex                   1893\n",
       "Age_months            1893\n",
       "Weight (g)            1893\n",
       "Timepoint             1893\n",
       "Tumor Volume (mm3)    1893\n",
       "Metastatic Sites      1893\n",
       "dtype: int64"
      ]
     },
     "execution_count": 3,
     "metadata": {},
     "output_type": "execute_result"
    }
   ],
   "source": [
    "# Study data files\n",
    "mouse_metadata_path = \"data/Mouse_metadata.csv\"\n",
    "study_results_path = \"data/Study_results.csv\"\n",
    "\n",
    "# Read the mouse data and the study results\n",
    "mouse_metadata = pd.read_csv(mouse_metadata_path)\n",
    "study_results = pd.read_csv(study_results_path)\n",
    "\n",
    "# Combine the data into a single dataset\n",
    "merged_df = pd.merge(mouse_metadata, study_results, how=\"left\", on=[\"Mouse ID\", \"Mouse ID\"])\n",
    "# Display the data table for preview\n",
    "merged_df.count()"
   ]
  },
  {
   "cell_type": "code",
   "execution_count": 4,
   "metadata": {},
   "outputs": [
    {
     "data": {
      "text/plain": [
       "249"
      ]
     },
     "execution_count": 4,
     "metadata": {},
     "output_type": "execute_result"
    }
   ],
   "source": [
    "# Checking the number of mice.\n",
    "total_mice = merged_df['Mouse ID'].value_counts()\n",
    "total_mice = total_mice.count()\n",
    "total_mice"
   ]
  },
  {
   "cell_type": "code",
   "execution_count": 5,
   "metadata": {},
   "outputs": [
    {
     "data": {
      "text/plain": [
       "False    1888\n",
       "True        5\n",
       "dtype: int64"
      ]
     },
     "execution_count": 5,
     "metadata": {},
     "output_type": "execute_result"
    }
   ],
   "source": [
    "# Getting the duplicate mice by ID number that shows up for Mouse ID and Timepoint. \n",
    "duplicated_df = merged_df.duplicated(subset=['Mouse ID', 'Timepoint'])\n",
    "duplicated_df = duplicated_df.value_counts()\n",
    "duplicated_df"
   ]
  },
  {
   "cell_type": "code",
   "execution_count": 6,
   "metadata": {},
   "outputs": [],
   "source": [
    "# Optional: Get all the data for the duplicate mouse ID. "
   ]
  },
  {
   "cell_type": "code",
   "execution_count": 7,
   "metadata": {},
   "outputs": [],
   "source": [
    "# Create a clean DataFrame by dropping the duplicate mouse by its ID.\n",
    "clean_df = merged_df.drop_duplicates(subset=['Mouse ID', 'Timepoint'])"
   ]
  },
  {
   "cell_type": "code",
   "execution_count": 8,
   "metadata": {},
   "outputs": [
    {
     "data": {
      "text/plain": [
       "249"
      ]
     },
     "execution_count": 8,
     "metadata": {},
     "output_type": "execute_result"
    }
   ],
   "source": [
    "# Checking the number of mice in the clean DataFrame.\n",
    "clean_total_mice = clean_df['Mouse ID'].value_counts()\n",
    "clean_total_mice = clean_total_mice.count()\n",
    "clean_total_mice"
   ]
  },
  {
   "cell_type": "markdown",
   "metadata": {},
   "source": [
    "## Summary Statistics"
   ]
  },
  {
   "cell_type": "code",
   "execution_count": 9,
   "metadata": {},
   "outputs": [],
   "source": [
    "# Generate a summary statistics table of mean, median, variance, standard deviation, and SEM of the tumor volume for each regimen\n",
    "tumor_mean = clean_df['Tumor Volume (mm3)'].mean()\n",
    "tumor_median = clean_df['Tumor Volume (mm3)'].median()\n",
    "tumor_var = clean_df['Tumor Volume (mm3)'].var()\n",
    "tumor_std = clean_df['Tumor Volume (mm3)'].std()"
   ]
  },
  {
   "cell_type": "code",
   "execution_count": 10,
   "metadata": {},
   "outputs": [
    {
     "data": {
      "text/html": [
       "<div>\n",
       "<style scoped>\n",
       "    .dataframe tbody tr th:only-of-type {\n",
       "        vertical-align: middle;\n",
       "    }\n",
       "\n",
       "    .dataframe tbody tr th {\n",
       "        vertical-align: top;\n",
       "    }\n",
       "\n",
       "    .dataframe thead th {\n",
       "        text-align: right;\n",
       "    }\n",
       "</style>\n",
       "<table border=\"1\" class=\"dataframe\">\n",
       "  <thead>\n",
       "    <tr style=\"text-align: right;\">\n",
       "      <th></th>\n",
       "      <th>Tumor Mean</th>\n",
       "      <th>Tumor Median</th>\n",
       "      <th>Tumor Variance</th>\n",
       "      <th>Tumor Standard Deviation</th>\n",
       "    </tr>\n",
       "  </thead>\n",
       "  <tbody>\n",
       "    <tr>\n",
       "      <th>0</th>\n",
       "      <td>50.449276</td>\n",
       "      <td>48.951421</td>\n",
       "      <td>79.291277</td>\n",
       "      <td>8.904565</td>\n",
       "    </tr>\n",
       "  </tbody>\n",
       "</table>\n",
       "</div>"
      ],
      "text/plain": [
       "   Tumor Mean  Tumor Median  Tumor Variance  Tumor Standard Deviation\n",
       "0   50.449276     48.951421       79.291277                  8.904565"
      ]
     },
     "execution_count": 10,
     "metadata": {},
     "output_type": "execute_result"
    }
   ],
   "source": [
    "overall_results = pd.DataFrame({\n",
    "                                \"Tumor Mean\" : [tumor_mean],\n",
    "                                \"Tumor Median\": [tumor_median],\n",
    "                                \"Tumor Variance\": [tumor_var],\n",
    "                                \"Tumor Standard Deviation\": [tumor_std]\n",
    "                              })\n",
    "overall_results"
   ]
  },
  {
   "cell_type": "code",
   "execution_count": 11,
   "metadata": {},
   "outputs": [],
   "source": [
    "group_by_df = clean_df.groupby('Drug Regimen')"
   ]
  },
  {
   "cell_type": "code",
   "execution_count": 12,
   "metadata": {},
   "outputs": [],
   "source": [
    "# Use groupby and summary statistical methods to calculate the following properties of each drug regimen: \n",
    "drug_type_df = group_by_df[\"Drug Regimen\"].unique()\n",
    "summary_df = pd.DataFrame(drug_type_df)"
   ]
  },
  {
   "cell_type": "code",
   "execution_count": 13,
   "metadata": {},
   "outputs": [
    {
     "data": {
      "text/html": [
       "<div>\n",
       "<style scoped>\n",
       "    .dataframe tbody tr th:only-of-type {\n",
       "        vertical-align: middle;\n",
       "    }\n",
       "\n",
       "    .dataframe tbody tr th {\n",
       "        vertical-align: top;\n",
       "    }\n",
       "\n",
       "    .dataframe thead th {\n",
       "        text-align: right;\n",
       "    }\n",
       "</style>\n",
       "<table border=\"1\" class=\"dataframe\">\n",
       "  <thead>\n",
       "    <tr style=\"text-align: right;\">\n",
       "      <th></th>\n",
       "      <th>Tumor Mean</th>\n",
       "      <th>Tumor Median</th>\n",
       "      <th>Tumor Variance</th>\n",
       "      <th>Tumor Standard Deviation</th>\n",
       "      <th>Tumor Standard Error</th>\n",
       "    </tr>\n",
       "    <tr>\n",
       "      <th>Drug Regimen</th>\n",
       "      <th></th>\n",
       "      <th></th>\n",
       "      <th></th>\n",
       "      <th></th>\n",
       "      <th></th>\n",
       "    </tr>\n",
       "  </thead>\n",
       "  <tbody>\n",
       "    <tr>\n",
       "      <th>Capomulin</th>\n",
       "      <td>40.675741</td>\n",
       "      <td>41.557809</td>\n",
       "      <td>24.947764</td>\n",
       "      <td>4.994774</td>\n",
       "      <td>0.329346</td>\n",
       "    </tr>\n",
       "    <tr>\n",
       "      <th>Ceftamin</th>\n",
       "      <td>52.591172</td>\n",
       "      <td>51.776157</td>\n",
       "      <td>39.290177</td>\n",
       "      <td>6.268188</td>\n",
       "      <td>0.469821</td>\n",
       "    </tr>\n",
       "    <tr>\n",
       "      <th>Infubinol</th>\n",
       "      <td>52.884795</td>\n",
       "      <td>51.820584</td>\n",
       "      <td>43.128684</td>\n",
       "      <td>6.567243</td>\n",
       "      <td>0.492236</td>\n",
       "    </tr>\n",
       "    <tr>\n",
       "      <th>Ketapril</th>\n",
       "      <td>55.235638</td>\n",
       "      <td>53.698743</td>\n",
       "      <td>68.553577</td>\n",
       "      <td>8.279709</td>\n",
       "      <td>0.603860</td>\n",
       "    </tr>\n",
       "    <tr>\n",
       "      <th>Naftisol</th>\n",
       "      <td>54.331565</td>\n",
       "      <td>52.509285</td>\n",
       "      <td>66.173479</td>\n",
       "      <td>8.134708</td>\n",
       "      <td>0.596466</td>\n",
       "    </tr>\n",
       "    <tr>\n",
       "      <th>Placebo</th>\n",
       "      <td>54.033581</td>\n",
       "      <td>52.288934</td>\n",
       "      <td>61.168083</td>\n",
       "      <td>7.821003</td>\n",
       "      <td>0.581331</td>\n",
       "    </tr>\n",
       "    <tr>\n",
       "      <th>Propriva</th>\n",
       "      <td>52.393463</td>\n",
       "      <td>50.909965</td>\n",
       "      <td>43.138803</td>\n",
       "      <td>6.568014</td>\n",
       "      <td>0.525862</td>\n",
       "    </tr>\n",
       "    <tr>\n",
       "      <th>Ramicane</th>\n",
       "      <td>40.216745</td>\n",
       "      <td>40.673236</td>\n",
       "      <td>23.486704</td>\n",
       "      <td>4.846308</td>\n",
       "      <td>0.320955</td>\n",
       "    </tr>\n",
       "    <tr>\n",
       "      <th>Stelasyn</th>\n",
       "      <td>54.233149</td>\n",
       "      <td>52.431737</td>\n",
       "      <td>59.450562</td>\n",
       "      <td>7.710419</td>\n",
       "      <td>0.573111</td>\n",
       "    </tr>\n",
       "    <tr>\n",
       "      <th>Zoniferol</th>\n",
       "      <td>53.236507</td>\n",
       "      <td>51.818479</td>\n",
       "      <td>48.533355</td>\n",
       "      <td>6.966589</td>\n",
       "      <td>0.516398</td>\n",
       "    </tr>\n",
       "  </tbody>\n",
       "</table>\n",
       "</div>"
      ],
      "text/plain": [
       "              Tumor Mean  Tumor Median  Tumor Variance  \\\n",
       "Drug Regimen                                             \n",
       "Capomulin      40.675741     41.557809       24.947764   \n",
       "Ceftamin       52.591172     51.776157       39.290177   \n",
       "Infubinol      52.884795     51.820584       43.128684   \n",
       "Ketapril       55.235638     53.698743       68.553577   \n",
       "Naftisol       54.331565     52.509285       66.173479   \n",
       "Placebo        54.033581     52.288934       61.168083   \n",
       "Propriva       52.393463     50.909965       43.138803   \n",
       "Ramicane       40.216745     40.673236       23.486704   \n",
       "Stelasyn       54.233149     52.431737       59.450562   \n",
       "Zoniferol      53.236507     51.818479       48.533355   \n",
       "\n",
       "              Tumor Standard Deviation  Tumor Standard Error  \n",
       "Drug Regimen                                                  \n",
       "Capomulin                     4.994774              0.329346  \n",
       "Ceftamin                      6.268188              0.469821  \n",
       "Infubinol                     6.567243              0.492236  \n",
       "Ketapril                      8.279709              0.603860  \n",
       "Naftisol                      8.134708              0.596466  \n",
       "Placebo                       7.821003              0.581331  \n",
       "Propriva                      6.568014              0.525862  \n",
       "Ramicane                      4.846308              0.320955  \n",
       "Stelasyn                      7.710419              0.573111  \n",
       "Zoniferol                     6.966589              0.516398  "
      ]
     },
     "execution_count": 13,
     "metadata": {},
     "output_type": "execute_result"
    }
   ],
   "source": [
    "# mean, median, variance, standard deviation, and SEM of the tumor volume. \n",
    "# Assemble the resulting series into a single summary dataframe.\n",
    "# Generate a summary statistics table of mean, median, variance, standard deviation, and SEM of the tumor volume for each regimen\n",
    "# Using the aggregation method, produce the same summary statistics in a single line\n",
    "summary_df['Tumor Mean'] = group_by_df['Tumor Volume (mm3)'].mean()\n",
    "summary_df['Tumor Median'] = group_by_df['Tumor Volume (mm3)'].median()\n",
    "summary_df['Tumor Variance'] = group_by_df['Tumor Volume (mm3)'].var()\n",
    "summary_df['Tumor Standard Deviation'] = group_by_df['Tumor Volume (mm3)'].std()\n",
    "summary_df['Tumor Standard Error'] = group_by_df['Tumor Volume (mm3)'].sem()\n",
    "del summary_df['Drug Regimen']\n",
    "summary_df"
   ]
  },
  {
   "cell_type": "markdown",
   "metadata": {},
   "source": [
    "## Bar and Pie Charts"
   ]
  },
  {
   "cell_type": "code",
   "execution_count": 14,
   "metadata": {},
   "outputs": [
    {
     "data": {
      "text/plain": [
       "Text(0, 0.5, 'Timepoints')"
      ]
     },
     "execution_count": 14,
     "metadata": {},
     "output_type": "execute_result"
    },
    {
     "data": {
      "image/png": "[encoded data removed]",
      "text/plain": [
       "<Figure size 432x288 with 1 Axes>"
      ]
     },
     "metadata": {
      "needs_background": "light"
     },
     "output_type": "display_data"
    }
   ],
   "source": [
    "# Generate a bar plot showing the total number of timepoints for all mice tested for each drug regimen using pandas.\n",
    "count_time = group_by_df['Timepoint'].count()\n",
    "drug_chart = count_time.plot(kind='bar', color='blue',alpha=0.80)\n",
    "drug_chart.set_title('Total Number of Timepoints')\n",
    "drug_chart.set_xlabel('Drug Regimens')\n",
    "drug_chart.set_ylabel('Timepoints')"
   ]
  },
  {
   "cell_type": "code",
   "execution_count": 15,
   "metadata": {},
   "outputs": [
    {
     "data": {
      "text/plain": [
       "(-0.5, 9.5)"
      ]
     },
     "execution_count": 15,
     "metadata": {},
     "output_type": "execute_result"
    },
    {
     "data": {
      "image/png": "[encoded data removed]",
      "text/plain": [
       "<Figure size 432x288 with 1 Axes>"
      ]
     },
     "metadata": {
      "needs_background": "light"
     },
     "output_type": "display_data"
    }
   ],
   "source": [
    "## Generate a bar plot showing the total number of timepoints for all mice tested for each drug regimen using pyplot.\n",
    "x_axis = np.arange(len(count_time))\n",
    "plt.bar(x_axis, count_time, color='b', alpha=.80, align=\"center\", width=.50)\n",
    "tick_locations = [value for value in x_axis]\n",
    "plt.title('Total Number of Timepoints')\n",
    "plt.xlabel('Drug Regimens')\n",
    "plt.ylabel('Timepoints')\n",
    "plt.xticks(tick_locations, drug_type_df, rotation=\"vertical\")\n",
    "plt.xlim(-0.5, len(x_axis)-0.5)"
   ]
  },
  {
   "cell_type": "code",
   "execution_count": 16,
   "metadata": {},
   "outputs": [
    {
     "data": {
      "image/png": "[encoded data removed]",
      "text/plain": [
       "<Figure size 288x288 with 1 Axes>"
      ]
     },
     "metadata": {},
     "output_type": "display_data"
    }
   ],
   "source": [
    "# Generate a pie plot showing the distribution of female versus male mice using Pandas\n",
    "sex_count = clean_df['Sex'].value_counts()\n",
    "sex_count\n",
    "male_count = (sex_count[0])\n",
    "female_count = (sex_count[1])\n",
    "colors = ['#0000FF','#FF0000']\n",
    "explode = (0.1, 0)\n",
    "sex_plot = sex_count.plot.pie(y='Sex', colors=colors, explode=explode, autopct='%.2f', figsize=(4,4))"
   ]
  },
  {
   "cell_type": "code",
   "execution_count": 17,
   "metadata": {},
   "outputs": [
    {
     "data": {
      "text/plain": [
       "<function matplotlib.pyplot.show(close=None, block=None)>"
      ]
     },
     "execution_count": 17,
     "metadata": {},
     "output_type": "execute_result"
    },
    {
     "data": {
      "image/png": "[encoded data removed]",
      "text/plain": [
       "<Figure size 432x288 with 1 Axes>"
      ]
     },
     "metadata": {},
     "output_type": "display_data"
    }
   ],
   "source": [
    "# Generate a pie plot showing the distribution of female versus male mice using pyplot\n",
    "sex_count = clean_df['Sex'].value_counts()\n",
    "sex_count\n",
    "male_count = (sex_count[0])\n",
    "female_count = (sex_count[1])\n",
    "labels = ['Male','Female']\n",
    "sizes = [male_count,female_count]\n",
    "colors = ['blue','red']\n",
    "explode = (0.1, 0)\n",
    "plt.pie(sizes, explode=explode, labels=labels, colors=colors,\n",
    "        autopct=\"%.2f\", shadow=True, startangle=5)\n",
    "plt.show"
   ]
  },
  {
   "cell_type": "markdown",
   "metadata": {},
   "source": [
    "## Quartiles, Outliers and Boxplots"
   ]
  },
  {
   "cell_type": "code",
   "execution_count": 18,
   "metadata": {},
   "outputs": [],
   "source": [
    "# Calculate the final tumor volume of each mouse across four of the treatment regimens: Capomulin, Ramicane, Infubinol, and Ceftamin\n",
    "capomulin_df = clean_df.loc[clean_df[\"Drug Regimen\"] == \"Capomulin\",:]\n",
    "ramicane_df = clean_df.loc[clean_df[\"Drug Regimen\"] == \"Ramicane\", :]\n",
    "infubinol_df = clean_df.loc[clean_df[\"Drug Regimen\"] == \"Infubinol\", :]\n",
    "ceftamin_df = clean_df.loc[clean_df[\"Drug Regimen\"] == \"Ceftamin\", :]"
   ]
  },
  {
   "cell_type": "code",
   "execution_count": 19,
   "metadata": {},
   "outputs": [
    {
     "name": "stdout",
     "output_type": "stream",
     "text": [
      "The lower quartile of the Capomulin treatment is: 32.37735684\n",
      "The upper quartile of the Capomulin treatment temperatures is: 40.1592203\n",
      "The interquartile range for Capomulin treatment temperatures is: 7.781863460000004\n",
      "The median of temperatures for the Capomulin treatment is: 38.1251644 \n",
      "Values below 20.70456164999999 could be outliers.\n",
      "Values above 51.83201549 could be outliers.\n"
     ]
    }
   ],
   "source": [
    "# Start by getting the last (greatest) timepoint for each mouse\n",
    "capomulin_final = capomulin_df.groupby('Mouse ID').max()['Timepoint']\n",
    "capomulin_vol = pd.DataFrame(capomulin_final)\n",
    "capomulin_merge = pd.merge(capomulin_vol, clean_df, on=(\"Mouse ID\",\"Timepoint\"),how=\"left\")\n",
    "\n",
    "capomulin_tumors = capomulin_merge[\"Tumor Volume (mm3)\"]\n",
    "\n",
    "quartiles = capomulin_tumors.quantile([.25,.5,.75])\n",
    "lowerq = quartiles[0.25]\n",
    "upperq = quartiles[0.75]\n",
    "iqr = upperq-lowerq\n",
    "\n",
    "print(f\"The lower quartile of the Capomulin treatment is: {lowerq}\")\n",
    "print(f\"The upper quartile of the Capomulin treatment temperatures is: {upperq}\")\n",
    "print(f\"The interquartile range for Capomulin treatment temperatures is: {iqr}\")\n",
    "print(f\"The median of temperatures for the Capomulin treatment is: {quartiles[0.5]} \")\n",
    "\n",
    "lower_bound = lowerq - (1.5*iqr)\n",
    "upper_bound = upperq + (1.5*iqr)\n",
    "\n",
    "print(f\"Values below {lower_bound} could be outliers.\")\n",
    "print(f\"Values above {upper_bound} could be outliers.\")"
   ]
  },
  {
   "cell_type": "code",
   "execution_count": 20,
   "metadata": {},
   "outputs": [
    {
     "name": "stdout",
     "output_type": "stream",
     "text": [
      "The lower quartile of the Ramicane treatment is: 31.56046955\n",
      "The upper quartile of the Ramicane treatment temperatures is: 40.65900627\n",
      "The interquartile range for Ramicane treatment temperatures is: 9.098536719999998\n",
      "The median of temperatures for the Ramicane treatment is: 36.56165229 \n",
      "Values below 17.912664470000003 could be outliers.\n",
      "Values above 54.30681135 could be outliers.\n"
     ]
    }
   ],
   "source": [
    "ramicane_final = ramicane_df.groupby('Mouse ID').max()['Timepoint']\n",
    "ramicane_vol = pd.DataFrame(ramicane_final)\n",
    "ramicane_merge = pd.merge(ramicane_vol, clean_df, on=(\"Mouse ID\",\"Timepoint\"),how=\"left\")\n",
    "\n",
    "ramicane_tumors = ramicane_merge[\"Tumor Volume (mm3)\"]\n",
    "\n",
    "quartiles = ramicane_tumors.quantile([.25,.5,.75])\n",
    "lowerq = quartiles[0.25]\n",
    "upperq = quartiles[0.75]\n",
    "iqr = upperq-lowerq\n",
    "\n",
    "print(f\"The lower quartile of the Ramicane treatment is: {lowerq}\")\n",
    "print(f\"The upper quartile of the Ramicane treatment temperatures is: {upperq}\")\n",
    "print(f\"The interquartile range for Ramicane treatment temperatures is: {iqr}\")\n",
    "print(f\"The median of temperatures for the Ramicane treatment is: {quartiles[0.5]} \")\n",
    "\n",
    "\n",
    "lower_bound = lowerq - (1.5*iqr)\n",
    "upper_bound = upperq + (1.5*iqr)\n",
    "\n",
    "print(f\"Values below {lower_bound} could be outliers.\")\n",
    "print(f\"Values above {upper_bound} could be outliers.\")"
   ]
  },
  {
   "cell_type": "code",
   "execution_count": 34,
   "metadata": {},
   "outputs": [
    {
     "name": "stdout",
     "output_type": "stream",
     "text": [
      "The lower quartile of the Infubinol treatment is: 54.04860769\n",
      "The upper quartile of the Infubinol treatment temperatures is: 65.52574285\n",
      "The interquartile range for Infubinol treatment temperatures is: 11.477135160000003\n",
      "The median of temperatures for the Infubinol treatment is: 60.16518046 \n",
      "Values below 36.83290494999999 could be outliers.\n",
      "Values above 82.74144559000001 could be outliers.\n"
     ]
    }
   ],
   "source": [
    "infubinol_final = infubinol_df.groupby('Mouse ID').max()['Timepoint']\n",
    "infubinol_vol = pd.DataFrame(infubinol_final)\n",
    "infubinol_merge = pd.merge(infubinol_vol, clean_df, on=(\"Mouse ID\",\"Timepoint\"),how=\"left\")\n",
    "infubinol_tumors = infubinol_merge[\"Tumor Volume (mm3)\"]\n",
    "\n",
    "quartiles = infubinol_tumors.quantile([.25,.5,.75])\n",
    "lowerq = quartiles[0.25]\n",
    "upperq = quartiles[0.75]\n",
    "iqr = upperq-lowerq\n",
    "\n",
    "print(f\"The lower quartile of the Infubinol treatment is: {lowerq}\")\n",
    "print(f\"The upper quartile of the Infubinol treatment temperatures is: {upperq}\")\n",
    "print(f\"The interquartile range for Infubinol treatment temperatures is: {iqr}\")\n",
    "print(f\"The median of temperatures for the Infubinol treatment is: {quartiles[0.5]} \")\n",
    "\n",
    "lower_bound = lowerq - (1.5*iqr)\n",
    "upper_bound = upperq + (1.5*iqr)\n",
    "\n",
    "print(f\"Values below {lower_bound} could be outliers.\")\n",
    "print(f\"Values above {upper_bound} could be outliers.\")"
   ]
  },
  {
   "cell_type": "code",
   "execution_count": 35,
   "metadata": {},
   "outputs": [
    {
     "name": "stdout",
     "output_type": "stream",
     "text": [
      "The lower quartile of the Ceftamin treatment is: 48.72207785\n",
      "The upper quartile of the Ceftamin treatment temperatures is: 64.29983003\n",
      "The interquartile range for Ceftamin treatment temperatures is: 15.577752179999997\n",
      "The median of temperatures for the Ceftamin treatment is: 59.85195552 \n",
      "Values below 25.355449580000002 could be outliers.\n",
      "Values above 87.66645829999999 could be outliers.\n"
     ]
    }
   ],
   "source": [
    "# Calculate the IQR and quantitatively determine if there are any potential outliers for Ceftamin \n",
    "ceftamin_final = ceftamin_df.groupby('Mouse ID').max()['Timepoint']\n",
    "ceftamin_vol = pd.DataFrame(ceftamin_final)\n",
    "ceftamin_merge = pd.merge(ceftamin_vol, clean_df, on=(\"Mouse ID\",\"Timepoint\"),how=\"left\")\n",
    "\n",
    "ceftamin_tumors = ceftamin_merge[\"Tumor Volume (mm3)\"]\n",
    "\n",
    "quartiles = ceftamin_tumors.quantile([.25,.5,.75])\n",
    "lowerq = quartiles[0.25]\n",
    "upperq = quartiles[0.75]\n",
    "iqr = upperq-lowerq\n",
    "\n",
    "print(f\"The lower quartile of the Ceftamin treatment is: {lowerq}\")\n",
    "print(f\"The upper quartile of the Ceftamin treatment temperatures is: {upperq}\")\n",
    "print(f\"The interquartile range for Ceftamin treatment temperatures is: {iqr}\")\n",
    "print(f\"The median of temperatures for the Ceftamin treatment is: {quartiles[0.5]} \")\n",
    "\n",
    "lower_bound = lowerq - (1.5*iqr)\n",
    "upper_bound = upperq + (1.5*iqr)\n",
    "\n",
    "print(f\"Values below {lower_bound} could be outliers.\")\n",
    "print(f\"Values above {upper_bound} could be outliers.\")"
   ]
  },
  {
   "cell_type": "code",
   "execution_count": 38,
   "metadata": {},
   "outputs": [
    {
     "name": "stderr",
     "output_type": "stream",
     "text": [
      "<ipython-input-38-51d12f22f863>:9: UserWarning: FixedFormatter should only be used together with FixedLocator\n",
      "  ax1.set_xticklabels(Drug_Regimen,fontsize=13)\n"
     ]
    },
    {
     "data": {
      "image/png": "[encoded data removed]",
      "text/plain": [
       "<Figure size 1080x720 with 1 Axes>"
      ]
     },
     "metadata": {
      "needs_background": "light"
     },
     "output_type": "display_data"
    }
   ],
   "source": [
    "# Generate a box plot of the final tumor volume of each mouse across four regimens of interest\n",
    "tumor_data = [capomulin_tumors, ramicane_tumors, infubinol_tumors, ceftamin_tumors]\n",
    "Drug_Regimen = ['Capomulin', 'Ramicane', 'Infubinol', 'Ceftamin']\n",
    "fig1, ax1 = plt.subplots(figsize=(15,10))\n",
    "red_diamond = dict(markerfacecolor='r', marker='D')\n",
    "ax1.set_title('Tumor Volume of All Regimens',fontsize =20)\n",
    "ax1.set_ylabel('Final Tumor Volume (mm3)',fontsize = 15)\n",
    "ax1.set_xlabel('Drug Regimen',fontsize = 15)\n",
    "ax1.set_xticklabels(Drug_Regimen,fontsize=13)\n",
    "ax1.boxplot(tumor_data, notch=True, flierprops=red_diamond)\n",
    "plt.ylim(10, 80)\n",
    "plt.show()\n"
   ]
  },
  {
   "cell_type": "markdown",
   "metadata": {},
   "source": [
    "## Line and Scatter Plots"
   ]
  },
  {
   "cell_type": "code",
   "execution_count": 24,
   "metadata": {},
   "outputs": [
    {
     "data": {
      "image/png": "[encoded data removed]",
      "text/plain": [
       "<Figure size 1080x720 with 1 Axes>"
      ]
     },
     "metadata": {
      "needs_background": "light"
     },
     "output_type": "display_data"
    }
   ],
   "source": [
    "# Generate a line plot of tumor volume vs. time point for a mouse treated with Capomulin\n",
    "capmousedf = capomulin_df.loc[capomulin_df[\"Mouse ID\"] == \"s185\"]\n",
    "x_axis = capmousedf['Timepoint'] \n",
    "tumor_volume = capmousedf['Tumor Volume (mm3)']\n",
    "fig1, ax1 = plt.subplots(figsize=(15, 10))\n",
    "plt.title('Capomulin Treatment of Mouse G316',fontsize =20)\n",
    "plt.plot(x_axis, tumor_volume,linewidth=2, markersize=10,marker=\">\",color=\"b\")\n",
    "plt.xlabel('Timepoint (Days)',fontsize =15)\n",
    "plt.ylabel('Tumor Volume (mm3)',fontsize =15)\n",
    "plt.show()"
   ]
  },
  {
   "cell_type": "code",
   "execution_count": 95,
   "metadata": {},
   "outputs": [
    {
     "data": {
      "image/png": "[encoded data removed]",
      "text/plain": [
       "<Figure size 1080x720 with 1 Axes>"
      ]
     },
     "metadata": {
      "needs_background": "light"
     },
     "output_type": "display_data"
    }
   ],
   "source": [
    "# Generate a scatter plot of average tumor volume vs. mouse weight for the Capomulin regimen\n",
    "avg_volume_cap = capomulin_df.groupby(['Mouse ID']).mean()\n",
    "fig1, ax1 = plt.subplots(figsize =(15, 10))\n",
    "marker_size = 10\n",
    "plt.scatter(avg_volume_cap['Weight (g)'],avg_volume_cap['Tumor Volume (mm3)'],s=175, color=\"b\")\n",
    "plt.title('Mouse Weight Versus Average Tumor Volume',fontsize =20)\n",
    "plt.xlabel('Weight (g)',fontsize =15)\n",
    "plt.ylabel('Averag Tumor Volume (mm3)',fontsize =15)\n",
    "plt.show()"
   ]
  },
  {
   "cell_type": "markdown",
   "metadata": {},
   "source": [
    "## Correlation and Regression"
   ]
  },
  {
   "cell_type": "code",
   "execution_count": 96,
   "metadata": {},
   "outputs": [
    {
     "name": "stdout",
     "output_type": "stream",
     "text": [
      "The correlation between mouse weight and average tumor volume is 0.84\n"
     ]
    },
    {
     "data": {
      "image/png": "[encoded data removed]",
      "text/plain": [
       "<Figure size 432x288 with 1 Axes>"
      ]
     },
     "metadata": {
      "needs_background": "light"
     },
     "output_type": "display_data"
    }
   ],
   "source": [
    "# Calculate the correlation coefficient and linear regression model \n",
    "# for mouse weight and average tumor volume for the Capomulin regimen\n",
    "correlation = round(st.pearsonr(avg_volume_cap['Weight (g)'],avg_volume_cap['Tumor Volume (mm3)'])[0],2)\n",
    "print(f\"The correlation between mouse weight and average tumor volume is {correlation}\")         \n",
    "\n",
    "avg_volume_cap = capomulin_df.groupby(['Mouse ID']).mean()\n",
    "\n",
    "x_values = capomulin_df['Timepoint']\n",
    "y_values = capomulin_df[\"Tumor Volume (mm3)\"]\n",
    "(slope, intercept,rvalue, pvalue, stderr) = linregress(avg_volume_cap['Weight (g)'],avg_volume_cap['Tumor Volume (mm3)'])\n",
    "regress_values = avg_volume_cap['Weight (g)']* slope + intercept\n",
    "line_eq= f\"y = {round(slope, 2)} x + {round(intercept, 2)}\"\n",
    "plt.scatter(avg_volume_cap[\"Weight (g)\"],avg_volume_cap[\"Tumor Volume (mm3)\"],color='b')\n",
    "plt.plot(avg_volume_cap[\"Weight (g)\"], regress_values, color='red')\n",
    "plt.annotate(line_eq,(20,36), fontsize=14)\n",
    "plt.xlabel(\"Weight (g)\")\n",
    "plt.ylabel(\"Tumor Volume (mm3)\")\n",
    "plt.title(\"Weight vs Tumor Volume for Capomulin\")\n",
    "plt.show()"
   ]
  },
  {
   "cell_type": "code",
   "execution_count": null,
   "metadata": {},
   "outputs": [],
   "source": []
  },
  {
   "cell_type": "code",
   "execution_count": null,
   "metadata": {},
   "outputs": [],
   "source": []
  }
 ],
 "metadata": {
  "anaconda-cloud": {},
  "kernelspec": {
   "display_name": "Python 3",
   "language": "python",
   "name": "python3"
  },
  "language_info": {
   "codemirror_mode": {
    "name": "ipython",
    "version": 3
   },
   "file_extension": ".py",
   "mimetype": "text/x-python",
   "name": "python",
   "nbconvert_exporter": "python",
   "pygments_lexer": "ipython3",
   "version": "3.8.8"
  }
 },
 "nbformat": 4,
 "nbformat_minor": 4
}
